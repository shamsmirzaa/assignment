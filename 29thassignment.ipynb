{
 "cells": [
  {
   "cell_type": "code",
   "execution_count": 5,
   "id": "12c09c3c-d14b-4141-a25a-12b72f088be9",
   "metadata": {},
   "outputs": [],
   "source": [
    "#1.Guido van Rossum"
   ]
  },
  {
   "cell_type": "code",
   "execution_count": 7,
   "id": "bcd3586c-70fe-44a1-8eab-b7a5be3c0d99",
   "metadata": {},
   "outputs": [],
   "source": [
    "#2.Python is an interpreted programming language, supporting object-oriented, structured, and functional programming."
   ]
  },
  {
   "cell_type": "code",
   "execution_count": 8,
   "id": "832c22cd-5547-4769-8c19-ae1e742146c5",
   "metadata": {},
   "outputs": [],
   "source": [
    "#3.Yes, Python is a case-sensitive language"
   ]
  },
  {
   "cell_type": "code",
   "execution_count": 9,
   "id": "f75a9d5a-f9c8-4930-b5e9-fa7dc9c6939f",
   "metadata": {},
   "outputs": [],
   "source": [
    "#4.The extensions for Python files are - . py, . pyi"
   ]
  },
  {
   "cell_type": "code",
   "execution_count": 10,
   "id": "5d79a907-c449-4bdc-8210-46472429c7bc",
   "metadata": {},
   "outputs": [],
   "source": [
    "#5.Python is an interpreted language"
   ]
  },
  {
   "cell_type": "code",
   "execution_count": 11,
   "id": "64787bb4-c93d-4ed3-be54-dd75e16f13aa",
   "metadata": {},
   "outputs": [],
   "source": [
    "#6.The following are blocks: a module, a function body, and a class definition. Each command typed interactively is a block."
   ]
  },
  {
   "cell_type": "code",
   "execution_count": 12,
   "id": "9b99afc4-c2a2-4484-930c-4f620fbd4f3a",
   "metadata": {},
   "outputs": [],
   "source": [
    "#7.We can write a single-line comment by adding a single # character before any statement or line of code."
   ]
  },
  {
   "cell_type": "code",
   "execution_count": 14,
   "id": "7fd84e25-914a-4ec3-8291-b9a1abcbe0ef",
   "metadata": {},
   "outputs": [],
   "source": [
    "#8.To get the Version of the python Interpreter, they are listed as follows:\n",
    "#Using sys. version method.\n",
    "#Using python_version() function.\n",
    "#Using Python -V command."
   ]
  },
  {
   "cell_type": "code",
   "execution_count": 15,
   "id": "3298a9d4-0fa1-4766-86fc-6259e88dbc81",
   "metadata": {},
   "outputs": [],
   "source": [
    "#9.It uses a construct called \"lambda\" ."
   ]
  },
  {
   "cell_type": "code",
   "execution_count": 16,
   "id": "fa115656-b7ef-4630-b604-739a26710d5a",
   "metadata": {},
   "outputs": [],
   "source": [
    "#10.pip Install Packages"
   ]
  },
  {
   "cell_type": "code",
   "execution_count": 18,
   "id": "902382df-6efb-4487-aea2-503c8748b3ad",
   "metadata": {},
   "outputs": [],
   "source": [
    "#11.few built-in functions in python are .append(), .remove(), .extend(), .dict(), .str()"
   ]
  },
  {
   "cell_type": "code",
   "execution_count": 19,
   "id": "83f34282-e6c2-4692-8cbb-7b4aa3cae159",
   "metadata": {},
   "outputs": [],
   "source": [
    "#12.(79 characters)"
   ]
  },
  {
   "cell_type": "code",
   "execution_count": 20,
   "id": "cc2e4ff1-60cb-4231-bd64-070056e41cae",
   "metadata": {},
   "outputs": [],
   "source": [
    "#13.Computer graphics,Data science,Scientific and mathematical computing,Web development."
   ]
  },
  {
   "cell_type": "code",
   "execution_count": 21,
   "id": "27454b0d-ea9a-4c72-9128-7d5a64d53b38",
   "metadata": {},
   "outputs": [],
   "source": [
    "#14.Memory management in Python involves a private heap containing all Python objects and data structures."
   ]
  },
  {
   "cell_type": "code",
   "execution_count": 22,
   "id": "2b5439b9-23a7-4092-8726-df008b9524ab",
   "metadata": {},
   "outputs": [],
   "source": [
    "#15.The complete path of python.exe can be added by:\n",
    "\n",
    "#1).Right-clicking This PC and going to Properties.\n",
    "\n",
    "#2).Clicking on the Advanced system settings in the menu on the left.\n",
    "\n",
    "#3).Clicking on the Environment Variables button on the bottom right.\n",
    "\n",
    "#4).In the System variables section, selecting the Path variable and clicking on Edit. The next screen will show all the directories that are currently a part of the PATH variable.\n",
    "\n",
    "#5).Clicking on New and entering Python’s install directory."
   ]
  },
  {
   "cell_type": "code",
   "execution_count": null,
   "id": "9b48dce4-55d1-4568-8b78-48873d8ad8ae",
   "metadata": {},
   "outputs": [],
   "source": [
    "#16."
   ]
  }
 ],
 "metadata": {
  "kernelspec": {
   "display_name": "Python 3 (ipykernel)",
   "language": "python",
   "name": "python3"
  },
  "language_info": {
   "codemirror_mode": {
    "name": "ipython",
    "version": 3
   },
   "file_extension": ".py",
   "mimetype": "text/x-python",
   "name": "python",
   "nbconvert_exporter": "python",
   "pygments_lexer": "ipython3",
   "version": "3.10.8"
  }
 },
 "nbformat": 4,
 "nbformat_minor": 5
}
